{
  "nbformat": 4,
  "nbformat_minor": 0,
  "metadata": {
    "colab": {
      "provenance": [],
      "toc_visible": true,
      "authorship_tag": "ABX9TyNdbCIAg4TB6BXnBSu8Bs8E"
    },
    "kernelspec": {
      "name": "python3",
      "display_name": "Python 3"
    },
    "language_info": {
      "name": "python"
    },
    "accelerator": "GPU",
    "gpuClass": "standard"
  },
  "cells": [
    {
      "cell_type": "markdown",
      "source": [
        "# Import Packages and Mounting GDrive"
      ],
      "metadata": {
        "id": "419zhajCpssa"
      }
    },
    {
      "cell_type": "code",
      "execution_count": null,
      "metadata": {
        "id": "I7oYXuCMPCYC"
      },
      "outputs": [],
      "source": [
        "import pandas as pd\n",
        "import numpy as np\n",
        "import jax.numpy as jnp\n",
        "import jax\n",
        "\n",
        "import matplotlib.pyplot as plt\n",
        "\n",
        "from tqdm.auto import tqdm\n",
        "import time\n",
        "\n",
        "from sklearn.model_selection import train_test_split\n",
        "from scipy import sparse"
      ]
    },
    {
      "cell_type": "code",
      "source": [
        "from google.colab import drive\n",
        "drive.mount(\"/content/drive\")"
      ],
      "metadata": {
        "colab": {
          "base_uri": "https://localhost:8080/"
        },
        "id": "RJsZbbXR1Jee",
        "outputId": "0be8266a-f3c3-4eff-d626-2b4bb8334415"
      },
      "execution_count": null,
      "outputs": [
        {
          "output_type": "stream",
          "name": "stdout",
          "text": [
            "Mounted at /content/drive\n"
          ]
        }
      ]
    },
    {
      "cell_type": "code",
      "source": [
        "#Change directory here!\n",
        "%cd /content/drive/MyDrive/Colab Notebooks\n"
      ],
      "metadata": {
        "id": "t9w8SGKS1M1N",
        "colab": {
          "base_uri": "https://localhost:8080/"
        },
        "outputId": "ab34f821-04c2-493d-d449-f7db533ac99a"
      },
      "execution_count": null,
      "outputs": [
        {
          "output_type": "stream",
          "name": "stdout",
          "text": [
            "/content/drive/MyDrive/Colab Notebooks\n"
          ]
        }
      ]
    },
    {
      "cell_type": "markdown",
      "source": [
        "# Reading Data"
      ],
      "metadata": {
        "id": "nWuxfrWZ1YQy"
      }
    },
    {
      "cell_type": "code",
      "source": [
        "#Load Training Dataset\n",
        "train_all = pd.read_csv('assignment_2_ratings_train.csv')\n",
        "train_all"
      ],
      "metadata": {
        "id": "o_p55bX_1VGM",
        "colab": {
          "base_uri": "https://localhost:8080/",
          "height": 424
        },
        "outputId": "e6f5b9f5-7c7f-4ec1-f93b-fe05b20426bd"
      },
      "execution_count": null,
      "outputs": [
        {
          "output_type": "execute_result",
          "data": {
            "text/plain": [
              "         user_id  anime_id  rating\n",
              "0          20170     10794       6\n",
              "1          24592     21995       5\n",
              "2          18358      7054      10\n",
              "3          59267       488       7\n",
              "4          69313     30544       4\n",
              "...          ...       ...     ...\n",
              "4436063    32872     15061       7\n",
              "4436064    66206     20507       8\n",
              "4436065    46386       834       7\n",
              "4436066    10497      9159       7\n",
              "4436067    56230      6045      10\n",
              "\n",
              "[4436068 rows x 3 columns]"
            ],
            "text/html": [
              "\n",
              "  <div id=\"df-9b6e4687-e4d1-4f92-a526-926edb8336ff\">\n",
              "    <div class=\"colab-df-container\">\n",
              "      <div>\n",
              "<style scoped>\n",
              "    .dataframe tbody tr th:only-of-type {\n",
              "        vertical-align: middle;\n",
              "    }\n",
              "\n",
              "    .dataframe tbody tr th {\n",
              "        vertical-align: top;\n",
              "    }\n",
              "\n",
              "    .dataframe thead th {\n",
              "        text-align: right;\n",
              "    }\n",
              "</style>\n",
              "<table border=\"1\" class=\"dataframe\">\n",
              "  <thead>\n",
              "    <tr style=\"text-align: right;\">\n",
              "      <th></th>\n",
              "      <th>user_id</th>\n",
              "      <th>anime_id</th>\n",
              "      <th>rating</th>\n",
              "    </tr>\n",
              "  </thead>\n",
              "  <tbody>\n",
              "    <tr>\n",
              "      <th>0</th>\n",
              "      <td>20170</td>\n",
              "      <td>10794</td>\n",
              "      <td>6</td>\n",
              "    </tr>\n",
              "    <tr>\n",
              "      <th>1</th>\n",
              "      <td>24592</td>\n",
              "      <td>21995</td>\n",
              "      <td>5</td>\n",
              "    </tr>\n",
              "    <tr>\n",
              "      <th>2</th>\n",
              "      <td>18358</td>\n",
              "      <td>7054</td>\n",
              "      <td>10</td>\n",
              "    </tr>\n",
              "    <tr>\n",
              "      <th>3</th>\n",
              "      <td>59267</td>\n",
              "      <td>488</td>\n",
              "      <td>7</td>\n",
              "    </tr>\n",
              "    <tr>\n",
              "      <th>4</th>\n",
              "      <td>69313</td>\n",
              "      <td>30544</td>\n",
              "      <td>4</td>\n",
              "    </tr>\n",
              "    <tr>\n",
              "      <th>...</th>\n",
              "      <td>...</td>\n",
              "      <td>...</td>\n",
              "      <td>...</td>\n",
              "    </tr>\n",
              "    <tr>\n",
              "      <th>4436063</th>\n",
              "      <td>32872</td>\n",
              "      <td>15061</td>\n",
              "      <td>7</td>\n",
              "    </tr>\n",
              "    <tr>\n",
              "      <th>4436064</th>\n",
              "      <td>66206</td>\n",
              "      <td>20507</td>\n",
              "      <td>8</td>\n",
              "    </tr>\n",
              "    <tr>\n",
              "      <th>4436065</th>\n",
              "      <td>46386</td>\n",
              "      <td>834</td>\n",
              "      <td>7</td>\n",
              "    </tr>\n",
              "    <tr>\n",
              "      <th>4436066</th>\n",
              "      <td>10497</td>\n",
              "      <td>9159</td>\n",
              "      <td>7</td>\n",
              "    </tr>\n",
              "    <tr>\n",
              "      <th>4436067</th>\n",
              "      <td>56230</td>\n",
              "      <td>6045</td>\n",
              "      <td>10</td>\n",
              "    </tr>\n",
              "  </tbody>\n",
              "</table>\n",
              "<p>4436068 rows × 3 columns</p>\n",
              "</div>\n",
              "      <button class=\"colab-df-convert\" onclick=\"convertToInteractive('df-9b6e4687-e4d1-4f92-a526-926edb8336ff')\"\n",
              "              title=\"Convert this dataframe to an interactive table.\"\n",
              "              style=\"display:none;\">\n",
              "        \n",
              "  <svg xmlns=\"http://www.w3.org/2000/svg\" height=\"24px\"viewBox=\"0 0 24 24\"\n",
              "       width=\"24px\">\n",
              "    <path d=\"M0 0h24v24H0V0z\" fill=\"none\"/>\n",
              "    <path d=\"M18.56 5.44l.94 2.06.94-2.06 2.06-.94-2.06-.94-.94-2.06-.94 2.06-2.06.94zm-11 1L8.5 8.5l.94-2.06 2.06-.94-2.06-.94L8.5 2.5l-.94 2.06-2.06.94zm10 10l.94 2.06.94-2.06 2.06-.94-2.06-.94-.94-2.06-.94 2.06-2.06.94z\"/><path d=\"M17.41 7.96l-1.37-1.37c-.4-.4-.92-.59-1.43-.59-.52 0-1.04.2-1.43.59L10.3 9.45l-7.72 7.72c-.78.78-.78 2.05 0 2.83L4 21.41c.39.39.9.59 1.41.59.51 0 1.02-.2 1.41-.59l7.78-7.78 2.81-2.81c.8-.78.8-2.07 0-2.86zM5.41 20L4 18.59l7.72-7.72 1.47 1.35L5.41 20z\"/>\n",
              "  </svg>\n",
              "      </button>\n",
              "      \n",
              "  <style>\n",
              "    .colab-df-container {\n",
              "      display:flex;\n",
              "      flex-wrap:wrap;\n",
              "      gap: 12px;\n",
              "    }\n",
              "\n",
              "    .colab-df-convert {\n",
              "      background-color: #E8F0FE;\n",
              "      border: none;\n",
              "      border-radius: 50%;\n",
              "      cursor: pointer;\n",
              "      display: none;\n",
              "      fill: #1967D2;\n",
              "      height: 32px;\n",
              "      padding: 0 0 0 0;\n",
              "      width: 32px;\n",
              "    }\n",
              "\n",
              "    .colab-df-convert:hover {\n",
              "      background-color: #E2EBFA;\n",
              "      box-shadow: 0px 1px 2px rgba(60, 64, 67, 0.3), 0px 1px 3px 1px rgba(60, 64, 67, 0.15);\n",
              "      fill: #174EA6;\n",
              "    }\n",
              "\n",
              "    [theme=dark] .colab-df-convert {\n",
              "      background-color: #3B4455;\n",
              "      fill: #D2E3FC;\n",
              "    }\n",
              "\n",
              "    [theme=dark] .colab-df-convert:hover {\n",
              "      background-color: #434B5C;\n",
              "      box-shadow: 0px 1px 3px 1px rgba(0, 0, 0, 0.15);\n",
              "      filter: drop-shadow(0px 1px 2px rgba(0, 0, 0, 0.3));\n",
              "      fill: #FFFFFF;\n",
              "    }\n",
              "  </style>\n",
              "\n",
              "      <script>\n",
              "        const buttonEl =\n",
              "          document.querySelector('#df-9b6e4687-e4d1-4f92-a526-926edb8336ff button.colab-df-convert');\n",
              "        buttonEl.style.display =\n",
              "          google.colab.kernel.accessAllowed ? 'block' : 'none';\n",
              "\n",
              "        async function convertToInteractive(key) {\n",
              "          const element = document.querySelector('#df-9b6e4687-e4d1-4f92-a526-926edb8336ff');\n",
              "          const dataTable =\n",
              "            await google.colab.kernel.invokeFunction('convertToInteractive',\n",
              "                                                     [key], {});\n",
              "          if (!dataTable) return;\n",
              "\n",
              "          const docLinkHtml = 'Like what you see? Visit the ' +\n",
              "            '<a target=\"_blank\" href=https://colab.research.google.com/notebooks/data_table.ipynb>data table notebook</a>'\n",
              "            + ' to learn more about interactive tables.';\n",
              "          element.innerHTML = '';\n",
              "          dataTable['output_type'] = 'display_data';\n",
              "          await google.colab.output.renderOutput(dataTable, element);\n",
              "          const docLink = document.createElement('div');\n",
              "          docLink.innerHTML = docLinkHtml;\n",
              "          element.appendChild(docLink);\n",
              "        }\n",
              "      </script>\n",
              "    </div>\n",
              "  </div>\n",
              "  "
            ]
          },
          "metadata": {},
          "execution_count": 4
        }
      ]
    },
    {
      "cell_type": "code",
      "source": [
        "#Shuffle and Split\n",
        "train_all_shuffled = train_all.sample(frac = 1)\n",
        "train, valid = train_test_split(train_all_shuffled, test_size=0.2)"
      ],
      "metadata": {
        "id": "oGkBIp2w1cDE"
      },
      "execution_count": null,
      "outputs": []
    },
    {
      "cell_type": "code",
      "source": [
        "#Convert to JAX numpy arrays\n",
        "train_np = jnp.array(train)\n",
        "val_np = jnp.array(valid)"
      ],
      "metadata": {
        "id": "M-66WFYa1cS7"
      },
      "execution_count": null,
      "outputs": []
    },
    {
      "cell_type": "markdown",
      "source": [
        "# NMF Training"
      ],
      "metadata": {
        "id": "nva9LVB31gB2"
      }
    },
    {
      "cell_type": "code",
      "source": [
        "#Obtaining separate variables for each column in the training dataset\n",
        "train_user_id, train_anime_id , train_actual_ratings = train_np[:,0],train_np[:,1],train_np[:,2]"
      ],
      "metadata": {
        "id": "7qElpFkO13ww"
      },
      "execution_count": null,
      "outputs": []
    },
    {
      "cell_type": "code",
      "source": [
        "#Generating the list of unique IDs\n",
        "train_user_id_all = list(set(train['user_id']))\n",
        "train_anime_id_all = list(set(train['anime_id']))"
      ],
      "metadata": {
        "id": "WofAndPC1_Ri"
      },
      "execution_count": null,
      "outputs": []
    },
    {
      "cell_type": "code",
      "source": [
        "#Setting the Dimensions of the matrix\n",
        "p = max(train_user_id_all) + 1\n",
        "q = max(train_anime_id_all) + 1\n",
        "r = 10\n",
        "print(p,q)"
      ],
      "metadata": {
        "colab": {
          "base_uri": "https://localhost:8080/"
        },
        "id": "eCWvStGU2AwD",
        "outputId": "b20554f7-e745-4f4f-dd28-04b976adc1f0"
      },
      "execution_count": null,
      "outputs": [
        {
          "output_type": "stream",
          "name": "stdout",
          "text": [
            "73517 34476\n"
          ]
        }
      ]
    },
    {
      "cell_type": "markdown",
      "source": [
        "Given that the maximum is used, there would be certain rows which do not correspond to any anime/user in the training set. They would not be updated during training."
      ],
      "metadata": {
        "id": "gDLvhrc4s9Ph"
      }
    },
    {
      "cell_type": "code",
      "source": [
        "# Initializing U and V, values are all non-negative. Mean and Scale determined by distribution of actual ratings and initial ratings\n",
        "U_init = jnp.abs(np.random.normal(1,0.1,size = (p,r)))\n",
        "V_init = jnp.abs(np.random.normal(1,0.1,size = (q,r)))"
      ],
      "metadata": {
        "id": "9ZgTdud82DZo"
      },
      "execution_count": null,
      "outputs": []
    },
    {
      "cell_type": "code",
      "source": [
        "#To be used as a divisor for regularization later, denotes the number of parameters in U and V\n",
        "num_elements_U = len(train_user_id_all) * 10\n",
        "num_elements_V = len(train_anime_id_all) * 10"
      ],
      "metadata": {
        "id": "2v92gpzV_e9w"
      },
      "execution_count": null,
      "outputs": []
    },
    {
      "cell_type": "code",
      "source": [
        "#Loss function with L2 regularization\n",
        "reg_constant =  0.0008\n",
        "@jax.jit\n",
        "def loss(params,data):\n",
        "  U,V = params[0], params[1]\n",
        "  u_list, f_list, actual_ratings = data[0], data[1], data[2]\n",
        "  pred_ratings = jnp.sum(U[u_list]*V[f_list], axis = 1)\n",
        "  #MSE + L2 regularization Penalty\n",
        "  return jnp.mean((pred_ratings-actual_ratings)**2) + (reg_constant/num_elements_U) * (jnp.linalg.norm(U[train_user_id_all,])) + (reg_constant/num_elements_V) * (jnp.linalg.norm(V[train_anime_id_all,]))"
      ],
      "metadata": {
        "id": "h1Zx7-zv2vqt"
      },
      "execution_count": null,
      "outputs": []
    },
    {
      "cell_type": "code",
      "source": [
        "#Gradient Functions\n",
        "U_grad = jax.jit(jax.grad(loss, argnums = 0))\n",
        "V_grad = jax.jit(jax.grad(loss, argnums = 1))"
      ],
      "metadata": {
        "id": "ap-C_Ca627dK"
      },
      "execution_count": null,
      "outputs": []
    },
    {
      "cell_type": "code",
      "source": [
        "#Getting columns from validation set\n",
        "valid_user_id, valid_anime_id, valid_rating = np.array(val_np[:,0]), np.array(val_np[:,1]), np.array(val_np[:,2])"
      ],
      "metadata": {
        "id": "dINJMKl729R5"
      },
      "execution_count": null,
      "outputs": []
    },
    {
      "cell_type": "code",
      "source": [
        "#set of unique user and anime ids\n",
        "user_set = set(train['user_id'])\n",
        "anime_set = set(train['anime_id'])"
      ],
      "metadata": {
        "id": "-xsRXm0x2-td"
      },
      "execution_count": null,
      "outputs": []
    },
    {
      "cell_type": "code",
      "source": [
        "#returns 4 lists(categories), each containing index of x that belongs in the specified category\n",
        "def split_category(x, user_set, anime_set):\n",
        "  user_id, anime_id, rating = np.array(x[:,0]), np.array(x[:,1]), np.array(x[:,2])\n",
        "  in_both = np.array([i for i in range(len(x)) if user_id[i] in user_set and anime_id[i] in anime_set])\n",
        "  in_user = np.array([i for i in range(len(x)) if user_id[i] in user_set and anime_id[i] not in anime_set])\n",
        "  in_anime = np.array([i for i in range(len(x)) if user_id[i] not in user_set and anime_id[i] in anime_set])\n",
        "  in_none = np.array([i for i in range(len(x)) if user_id[i] not in user_set and anime_id[i] not in anime_set])\n",
        "  return in_both, in_user, in_anime, in_none"
      ],
      "metadata": {
        "id": "0trBArBd2_8Z"
      },
      "execution_count": null,
      "outputs": []
    },
    {
      "cell_type": "code",
      "source": [
        "#Obtaining the indices attached to each category for validation set\n",
        "in_both, in_user, in_anime, in_none = split_category(val_np, user_set, anime_set)"
      ],
      "metadata": {
        "id": "lB1TLUUc3BNr"
      },
      "execution_count": null,
      "outputs": []
    },
    {
      "cell_type": "code",
      "source": [
        "#Mutually exclusive sets\n",
        "len(in_both) + len(in_user) + len(in_anime) + len(in_none) - len(val_np)"
      ],
      "metadata": {
        "colab": {
          "base_uri": "https://localhost:8080/"
        },
        "id": "7xpUNyhY3CnK",
        "outputId": "d2360f7b-a63f-4d22-f178-6c3282604890"
      },
      "execution_count": null,
      "outputs": [
        {
          "output_type": "execute_result",
          "data": {
            "text/plain": [
              "0"
            ]
          },
          "metadata": {},
          "execution_count": 18
        }
      ]
    },
    {
      "cell_type": "code",
      "source": [
        "#in_none is empty\n",
        "len(in_none)"
      ],
      "metadata": {
        "colab": {
          "base_uri": "https://localhost:8080/"
        },
        "id": "SeFknLb33ED9",
        "outputId": "0e28e87b-47ce-4edd-b03a-8d57a0ba8b3f"
      },
      "execution_count": null,
      "outputs": [
        {
          "output_type": "execute_result",
          "data": {
            "text/plain": [
              "0"
            ]
          },
          "metadata": {},
          "execution_count": 19
        }
      ]
    },
    {
      "cell_type": "code",
      "source": [
        "# Install jaxopt library to perform Projected Gradient Descent\n",
        "!pip install jaxopt"
      ],
      "metadata": {
        "colab": {
          "base_uri": "https://localhost:8080/"
        },
        "id": "PBTwSfRE5EJ3",
        "outputId": "68608319-c356-4829-f053-02bfb1e27e8e"
      },
      "execution_count": null,
      "outputs": [
        {
          "output_type": "stream",
          "name": "stdout",
          "text": [
            "Looking in indexes: https://pypi.org/simple, https://us-python.pkg.dev/colab-wheels/public/simple/\n",
            "Collecting jaxopt\n",
            "  Downloading jaxopt-0.6-py3-none-any.whl (142 kB)\n",
            "\u001b[2K     \u001b[90m━━━━━━━━━━━━━━━━━━━━━━━━━━━━━━━━━━━━━━\u001b[0m \u001b[32m142.2/142.2 KB\u001b[0m \u001b[31m14.0 MB/s\u001b[0m eta \u001b[36m0:00:00\u001b[0m\n",
            "\u001b[?25hRequirement already satisfied: matplotlib>=2.0.1 in /usr/local/lib/python3.9/dist-packages (from jaxopt) (3.7.1)\n",
            "Requirement already satisfied: absl-py>=0.7.0 in /usr/local/lib/python3.9/dist-packages (from jaxopt) (1.4.0)\n",
            "Requirement already satisfied: scipy>=1.0.0 in /usr/local/lib/python3.9/dist-packages (from jaxopt) (1.10.1)\n",
            "Requirement already satisfied: numpy>=1.18.4 in /usr/local/lib/python3.9/dist-packages (from jaxopt) (1.22.4)\n",
            "Requirement already satisfied: jax>=0.2.18 in /usr/local/lib/python3.9/dist-packages (from jaxopt) (0.4.7)\n",
            "Requirement already satisfied: jaxlib>=0.1.69 in /usr/local/lib/python3.9/dist-packages (from jaxopt) (0.4.7+cuda11.cudnn86)\n",
            "Requirement already satisfied: opt-einsum in /usr/local/lib/python3.9/dist-packages (from jax>=0.2.18->jaxopt) (3.3.0)\n",
            "Requirement already satisfied: ml-dtypes>=0.0.3 in /usr/local/lib/python3.9/dist-packages (from jax>=0.2.18->jaxopt) (0.0.4)\n",
            "Requirement already satisfied: python-dateutil>=2.7 in /usr/local/lib/python3.9/dist-packages (from matplotlib>=2.0.1->jaxopt) (2.8.2)\n",
            "Requirement already satisfied: kiwisolver>=1.0.1 in /usr/local/lib/python3.9/dist-packages (from matplotlib>=2.0.1->jaxopt) (1.4.4)\n",
            "Requirement already satisfied: cycler>=0.10 in /usr/local/lib/python3.9/dist-packages (from matplotlib>=2.0.1->jaxopt) (0.11.0)\n",
            "Requirement already satisfied: importlib-resources>=3.2.0 in /usr/local/lib/python3.9/dist-packages (from matplotlib>=2.0.1->jaxopt) (5.12.0)\n",
            "Requirement already satisfied: contourpy>=1.0.1 in /usr/local/lib/python3.9/dist-packages (from matplotlib>=2.0.1->jaxopt) (1.0.7)\n",
            "Requirement already satisfied: fonttools>=4.22.0 in /usr/local/lib/python3.9/dist-packages (from matplotlib>=2.0.1->jaxopt) (4.39.3)\n",
            "Requirement already satisfied: packaging>=20.0 in /usr/local/lib/python3.9/dist-packages (from matplotlib>=2.0.1->jaxopt) (23.0)\n",
            "Requirement already satisfied: pillow>=6.2.0 in /usr/local/lib/python3.9/dist-packages (from matplotlib>=2.0.1->jaxopt) (8.4.0)\n",
            "Requirement already satisfied: pyparsing>=2.3.1 in /usr/local/lib/python3.9/dist-packages (from matplotlib>=2.0.1->jaxopt) (3.0.9)\n",
            "Requirement already satisfied: zipp>=3.1.0 in /usr/local/lib/python3.9/dist-packages (from importlib-resources>=3.2.0->matplotlib>=2.0.1->jaxopt) (3.15.0)\n",
            "Requirement already satisfied: six>=1.5 in /usr/local/lib/python3.9/dist-packages (from python-dateutil>=2.7->matplotlib>=2.0.1->jaxopt) (1.16.0)\n",
            "Installing collected packages: jaxopt\n",
            "Successfully installed jaxopt-0.6\n"
          ]
        }
      ]
    },
    {
      "cell_type": "code",
      "source": [
        "# Import optimisation packages\n",
        "from jaxopt import ProjectedGradient\n",
        "from jaxopt.projection import projection_non_negative"
      ],
      "metadata": {
        "id": "v4oEaNOF3bjD"
      },
      "execution_count": null,
      "outputs": []
    },
    {
      "cell_type": "code",
      "source": [
        "# Perform Projected Gradient Descent\n",
        "# Constrained Optimisation Problem where U and V cannot be negative\n",
        "pg = ProjectedGradient(fun=loss, projection=projection_non_negative, maxiter = 350)\n",
        "pg_sol = pg.run(init_params = [U_init,V_init], data = (train_user_id, train_anime_id, train_actual_ratings))"
      ],
      "metadata": {
        "id": "l0AZ65yk5FeY"
      },
      "execution_count": null,
      "outputs": []
    },
    {
      "cell_type": "code",
      "source": [
        "#Obtain U and V from the Projected Gradient Descent\n",
        "U, V = pg_sol.params[0], pg_sol.params[1]"
      ],
      "metadata": {
        "id": "NAdaHN-_5mqo"
      },
      "execution_count": null,
      "outputs": []
    },
    {
      "cell_type": "code",
      "source": [
        "#Checking Training Loss\n",
        "loss(pg_sol.params, (train_user_id, train_anime_id, train_actual_ratings))"
      ],
      "metadata": {
        "colab": {
          "base_uri": "https://localhost:8080/"
        },
        "id": "vH67-i0R7Pu4",
        "outputId": "e3778301-97e9-4f74-ed06-03e76438d13e"
      },
      "execution_count": null,
      "outputs": [
        {
          "output_type": "execute_result",
          "data": {
            "text/plain": [
              "Array(1.0345982, dtype=float32)"
            ]
          },
          "metadata": {},
          "execution_count": 24
        }
      ]
    },
    {
      "cell_type": "code",
      "source": [
        "#Sanity Check that matrices are non-negative\n",
        "jnp.sum((V < 0).ravel())"
      ],
      "metadata": {
        "colab": {
          "base_uri": "https://localhost:8080/"
        },
        "id": "JKq7vNdC71XL",
        "outputId": "705da772-9040-4b03-8cb2-6688107f3085"
      },
      "execution_count": null,
      "outputs": [
        {
          "output_type": "execute_result",
          "data": {
            "text/plain": [
              "Array(0, dtype=int32)"
            ]
          },
          "metadata": {},
          "execution_count": 25
        }
      ]
    },
    {
      "cell_type": "code",
      "source": [
        "jnp.sum((U < 0).ravel())"
      ],
      "metadata": {
        "colab": {
          "base_uri": "https://localhost:8080/"
        },
        "id": "5EXob1Ml7_8s",
        "outputId": "30cd8346-218d-4112-9a1f-3b6cdd080a0a"
      },
      "execution_count": null,
      "outputs": [
        {
          "output_type": "execute_result",
          "data": {
            "text/plain": [
              "Array(0, dtype=int32)"
            ]
          },
          "metadata": {},
          "execution_count": 26
        }
      ]
    },
    {
      "cell_type": "markdown",
      "source": [
        "# Evaluation on Validation Set"
      ],
      "metadata": {
        "id": "rWtrxVQ77vsE"
      }
    },
    {
      "cell_type": "code",
      "source": [
        "#Obtaining the mean user and anime factor from rows which correspond to anime/user in training set\n",
        "mean_user_factor = jnp.mean(U[train_user_id_all,], axis = 0)\n",
        "mean_anime_factor = jnp.mean(V[train_anime_id_all,], axis = 0)"
      ],
      "metadata": {
        "id": "zKiLGccqyNyE"
      },
      "execution_count": null,
      "outputs": []
    },
    {
      "cell_type": "code",
      "source": [
        "global_average_rating = jnp.mean(train_np[:,2])\n",
        "global_average_rating"
      ],
      "metadata": {
        "colab": {
          "base_uri": "https://localhost:8080/"
        },
        "id": "qvkWu57ty1WZ",
        "outputId": "31d11f94-6a59-4a18-9276-9426494322e6"
      },
      "execution_count": null,
      "outputs": [
        {
          "output_type": "execute_result",
          "data": {
            "text/plain": [
              "Array(7.808637, dtype=float32)"
            ]
          },
          "metadata": {},
          "execution_count": 28
        }
      ]
    },
    {
      "cell_type": "code",
      "source": [
        "# Sanity check that dot product of mean_user_factor and mean_anime_factor is close to global average\n",
        "jnp.sum(mean_user_factor*mean_anime_factor)"
      ],
      "metadata": {
        "colab": {
          "base_uri": "https://localhost:8080/"
        },
        "id": "0SD1qAQiyg24",
        "outputId": "9450dc5a-3007-435c-a19e-237760ac7ba8"
      },
      "execution_count": null,
      "outputs": [
        {
          "output_type": "execute_result",
          "data": {
            "text/plain": [
              "Array(7.245419, dtype=float32)"
            ]
          },
          "metadata": {},
          "execution_count": 29
        }
      ]
    },
    {
      "cell_type": "code",
      "source": [
        "min(train['rating']),max(train['rating'])"
      ],
      "metadata": {
        "colab": {
          "base_uri": "https://localhost:8080/"
        },
        "id": "fG0HF0NcrInz",
        "outputId": "8cc77740-271f-4c67-8684-30ed876aac72"
      },
      "execution_count": null,
      "outputs": [
        {
          "output_type": "execute_result",
          "data": {
            "text/plain": [
              "(1, 10)"
            ]
          },
          "metadata": {},
          "execution_count": 30
        }
      ]
    },
    {
      "cell_type": "code",
      "source": [
        "#in_none is left out as it is empty\n",
        "# Ratings below 1 and above 10 are set as 1 and 10 respectively\n",
        "def nmf_mse(x, in_both, in_user, in_anime):\n",
        "  user_id, anime_id, rating = np.array(x[:,0]), np.array(x[:,1]), np.array(x[:,2])\n",
        "  squared_error = 0\n",
        "  if len(in_both)>0:\n",
        "    pred_both = jnp.sum(U[user_id[in_both]]*V[anime_id[in_both]], axis = 1)\n",
        "    pred_both = jnp.clip(pred_both,1,10)\n",
        "    squared_error += jnp.sum((pred_both-np.array(rating[in_both]))**2)\n",
        "  #Pred in User only\n",
        "  if len(in_user)>0:\n",
        "    pred_user = jnp.sum(U[user_id[in_user]]*mean_anime_factor, axis = 1)\n",
        "    pred_user = jnp.clip(pred_user,1,10)\n",
        "    squared_error += jnp.sum((pred_user-np.array(rating[in_user]))**2)\n",
        "  #Pred in Anime only\n",
        "  if len(in_anime)>0:\n",
        "    pred_anime = jnp.sum(V[anime_id[in_anime]]*mean_user_factor, axis = 1)\n",
        "    pred_anime = jnp.clip(pred_anime,1,10)\n",
        "    squared_error += jnp.sum((pred_anime-np.array(rating[in_anime]))**2)\n",
        "  return squared_error/len(x)"
      ],
      "metadata": {
        "id": "RFf_Szyj9D3g"
      },
      "execution_count": null,
      "outputs": []
    },
    {
      "cell_type": "code",
      "source": [
        "#Compute Validation MSE for NMF Model\n",
        "nmf_mse(val_np,in_both, in_user, in_anime)"
      ],
      "metadata": {
        "colab": {
          "base_uri": "https://localhost:8080/"
        },
        "id": "wQ-GxTELzbpO",
        "outputId": "e648a2eb-a7af-41bf-c8cf-fc8899ac9e04"
      },
      "execution_count": null,
      "outputs": [
        {
          "output_type": "execute_result",
          "data": {
            "text/plain": [
              "Array(1.4134694, dtype=float32)"
            ]
          },
          "metadata": {},
          "execution_count": 32
        }
      ]
    }
  ]
}
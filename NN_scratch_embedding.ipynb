{
  "cells": [
    {
      "cell_type": "markdown",
      "metadata": {
        "id": "view-in-github",
        "colab_type": "text"
      },
      "source": [
        "<a href=\"https://colab.research.google.com/github/xghan99/dsa4212-assignments/blob/main/NN_scratch_embedding.ipynb\" target=\"_parent\"><img src=\"https://colab.research.google.com/assets/colab-badge.svg\" alt=\"Open In Colab\"/></a>"
      ]
    },
    {
      "cell_type": "code",
      "execution_count": null,
      "metadata": {
        "colab": {
          "base_uri": "https://localhost:8080/"
        },
        "id": "9wc7RaW-D6w6",
        "outputId": "a2b7e3ab-faf6-4610-de2f-48dfd7579d04"
      },
      "outputs": [
        {
          "output_type": "stream",
          "name": "stdout",
          "text": [
            "Mounted at /content/drive\n",
            "/content/drive/MyDrive/Colab Notebooks\n"
          ]
        }
      ],
      "source": [
        "from google.colab import drive\n",
        "drive.mount('/content/drive')\n",
        "%cd /content/drive/MyDrive/Colab Notebooks"
      ]
    },
    {
      "cell_type": "code",
      "execution_count": null,
      "metadata": {
        "id": "W5ervgTMD8sY"
      },
      "outputs": [],
      "source": [
        "import pandas\n",
        "import pickle\n",
        "with open(r\"df_sample.pkl\", \"rb\") as input_file:\n",
        "  df_sample = pickle.load(input_file)\n",
        "with open(r\"idx_2_word.pkl\", \"rb\") as input_file:\n",
        "  idx_2_word = pickle.load(input_file)\n",
        "with open(r\"word_2_idx.pkl\", \"rb\") as input_file:\n",
        "  word_2_idx = pickle.load(input_file)"
      ]
    },
    {
      "cell_type": "code",
      "execution_count": null,
      "metadata": {
        "id": "tdsS9iyPM1Lt"
      },
      "outputs": [],
      "source": [
        "import jax\n",
        "import jax.numpy as jnp\n",
        "import numpy as np\n",
        "#Build training dataset\n",
        "train = np.concatenate(df_sample['training_data'])\n",
        " "
      ]
    },
    {
      "cell_type": "code",
      "execution_count": null,
      "metadata": {
        "id": "7y4y6M95N9rw"
      },
      "outputs": [],
      "source": [
        "#Initializing Variables\n",
        "W_input_init = jnp.array(np.random.normal(0,0.01,(len(idx_2_word),100)))\n",
        "W_output_init = jnp.array(np.random.normal(0,0.01,(100,len(idx_2_word))))"
      ]
    },
    {
      "cell_type": "code",
      "execution_count": null,
      "metadata": {
        "id": "BLqI5XAvNqch"
      },
      "outputs": [],
      "source": [
        "#Loss Functions (Cross Entropy)\n",
        "@jax.jit\n",
        "def loss_single(W_input, W_output,x,y):\n",
        "  hidden = W_input[x].reshape(1,100)\n",
        "  output = hidden@W_output\n",
        "  softmax_output = jax.nn.softmax(output,axis = 1).reshape(len(idx_2_word))\n",
        "  return -jnp.log(softmax_output)[y]\n",
        "loss_batch = jax.vmap(loss_single, in_axes = (None, None, 0, 0))\n",
        "@jax.jit\n",
        "def total_loss(W_input, W_output,x,y):\n",
        "  return jnp.mean(loss_batch(W_input, W_output,x,y))"
      ]
    },
    {
      "cell_type": "code",
      "execution_count": null,
      "metadata": {
        "id": "bWY1XiDIRgG5"
      },
      "outputs": [],
      "source": [
        "vg_input = jax.jit(jax.value_and_grad(total_loss, argnums = 0))\n",
        "vg_output = jax.jit(jax.value_and_grad(total_loss, argnums = 1))"
      ]
    },
    {
      "cell_type": "code",
      "execution_count": null,
      "metadata": {
        "id": "UqqRycPjVsaD"
      },
      "outputs": [],
      "source": [
        "#Shuffle\n",
        "np.random.shuffle(train)"
      ]
    },
    {
      "cell_type": "code",
      "execution_count": null,
      "metadata": {
        "id": "NSHaLjjlfStB"
      },
      "outputs": [],
      "source": [
        "#Create small training batch for computing training loss\n",
        "X_train_batch, y_train_batch = jnp.array(train[0:512,0],dtype = 'int32'), jnp.array(train[0:512,1],dtype = 'int32')"
      ]
    },
    {
      "cell_type": "code",
      "execution_count": null,
      "metadata": {
        "colab": {
          "base_uri": "https://localhost:8080/"
        },
        "id": "XLAsC6RdTtsX",
        "outputId": "7d2d181e-3c18-410a-a5ee-1e5b3de3ff6d"
      },
      "outputs": [
        {
          "output_type": "stream",
          "name": "stdout",
          "text": [
            "9.047826\n"
          ]
        },
        {
          "output_type": "stream",
          "name": "stderr",
          "text": [
            "100%|██████████| 649/649 [00:11<00:00, 54.20it/s]\n"
          ]
        },
        {
          "output_type": "stream",
          "name": "stdout",
          "text": [
            "7.2457347\n"
          ]
        },
        {
          "output_type": "stream",
          "name": "stderr",
          "text": [
            "100%|██████████| 649/649 [00:12<00:00, 54.01it/s]\n"
          ]
        },
        {
          "output_type": "stream",
          "name": "stdout",
          "text": [
            "6.9685717\n"
          ]
        },
        {
          "output_type": "stream",
          "name": "stderr",
          "text": [
            "100%|██████████| 649/649 [00:12<00:00, 53.29it/s]\n"
          ]
        },
        {
          "output_type": "stream",
          "name": "stdout",
          "text": [
            "6.892425\n"
          ]
        },
        {
          "output_type": "stream",
          "name": "stderr",
          "text": [
            "100%|██████████| 649/649 [00:12<00:00, 53.04it/s]\n"
          ]
        },
        {
          "output_type": "stream",
          "name": "stdout",
          "text": [
            "6.872363\n"
          ]
        },
        {
          "output_type": "stream",
          "name": "stderr",
          "text": [
            "100%|██████████| 649/649 [00:12<00:00, 53.31it/s]\n"
          ]
        },
        {
          "output_type": "stream",
          "name": "stdout",
          "text": [
            "6.825525\n"
          ]
        },
        {
          "output_type": "stream",
          "name": "stderr",
          "text": [
            "100%|██████████| 649/649 [00:12<00:00, 53.49it/s]\n"
          ]
        },
        {
          "output_type": "stream",
          "name": "stdout",
          "text": [
            "6.80972\n"
          ]
        },
        {
          "output_type": "stream",
          "name": "stderr",
          "text": [
            "100%|██████████| 649/649 [00:12<00:00, 53.48it/s]\n"
          ]
        },
        {
          "output_type": "stream",
          "name": "stdout",
          "text": [
            "6.782154\n"
          ]
        },
        {
          "output_type": "stream",
          "name": "stderr",
          "text": [
            "100%|██████████| 649/649 [00:12<00:00, 53.30it/s]\n"
          ]
        },
        {
          "output_type": "stream",
          "name": "stdout",
          "text": [
            "6.7601485\n"
          ]
        },
        {
          "output_type": "stream",
          "name": "stderr",
          "text": [
            "100%|██████████| 649/649 [00:12<00:00, 53.40it/s]\n"
          ]
        },
        {
          "output_type": "stream",
          "name": "stdout",
          "text": [
            "6.7343974\n"
          ]
        },
        {
          "output_type": "stream",
          "name": "stderr",
          "text": [
            "100%|██████████| 649/649 [00:12<00:00, 53.31it/s]\n"
          ]
        },
        {
          "output_type": "stream",
          "name": "stdout",
          "text": [
            "6.726271\n"
          ]
        },
        {
          "output_type": "stream",
          "name": "stderr",
          "text": [
            "100%|██████████| 649/649 [00:12<00:00, 53.53it/s]\n"
          ]
        },
        {
          "output_type": "stream",
          "name": "stdout",
          "text": [
            "6.704608\n"
          ]
        },
        {
          "output_type": "stream",
          "name": "stderr",
          "text": [
            "100%|██████████| 649/649 [00:12<00:00, 53.57it/s]\n"
          ]
        },
        {
          "output_type": "stream",
          "name": "stdout",
          "text": [
            "6.6774945\n"
          ]
        },
        {
          "output_type": "stream",
          "name": "stderr",
          "text": [
            "100%|██████████| 649/649 [00:12<00:00, 53.39it/s]\n"
          ]
        },
        {
          "output_type": "stream",
          "name": "stdout",
          "text": [
            "6.6573725\n"
          ]
        },
        {
          "output_type": "stream",
          "name": "stderr",
          "text": [
            "100%|██████████| 649/649 [00:12<00:00, 53.33it/s]\n"
          ]
        },
        {
          "output_type": "stream",
          "name": "stdout",
          "text": [
            "6.62789\n"
          ]
        },
        {
          "output_type": "stream",
          "name": "stderr",
          "text": [
            "100%|██████████| 649/649 [00:12<00:00, 53.22it/s]\n"
          ]
        },
        {
          "output_type": "stream",
          "name": "stdout",
          "text": [
            "6.6189857\n"
          ]
        },
        {
          "output_type": "stream",
          "name": "stderr",
          "text": [
            "100%|██████████| 649/649 [00:12<00:00, 53.45it/s]\n"
          ]
        },
        {
          "output_type": "stream",
          "name": "stdout",
          "text": [
            "6.6107\n"
          ]
        },
        {
          "output_type": "stream",
          "name": "stderr",
          "text": [
            "100%|██████████| 649/649 [00:12<00:00, 53.35it/s]\n"
          ]
        },
        {
          "output_type": "stream",
          "name": "stdout",
          "text": [
            "6.5856557\n"
          ]
        },
        {
          "output_type": "stream",
          "name": "stderr",
          "text": [
            "100%|██████████| 649/649 [00:12<00:00, 53.39it/s]\n"
          ]
        },
        {
          "output_type": "stream",
          "name": "stdout",
          "text": [
            "6.5662446\n"
          ]
        },
        {
          "output_type": "stream",
          "name": "stderr",
          "text": [
            "100%|██████████| 649/649 [00:12<00:00, 53.27it/s]\n"
          ]
        },
        {
          "output_type": "stream",
          "name": "stdout",
          "text": [
            "6.5526724\n"
          ]
        },
        {
          "output_type": "stream",
          "name": "stderr",
          "text": [
            "100%|██████████| 649/649 [00:12<00:00, 53.36it/s]\n"
          ]
        },
        {
          "output_type": "stream",
          "name": "stdout",
          "text": [
            "6.54828\n"
          ]
        },
        {
          "output_type": "stream",
          "name": "stderr",
          "text": [
            "100%|██████████| 649/649 [00:12<00:00, 53.56it/s]\n"
          ]
        },
        {
          "output_type": "stream",
          "name": "stdout",
          "text": [
            "6.533563\n"
          ]
        },
        {
          "output_type": "stream",
          "name": "stderr",
          "text": [
            "100%|██████████| 649/649 [00:12<00:00, 53.28it/s]\n"
          ]
        },
        {
          "output_type": "stream",
          "name": "stdout",
          "text": [
            "6.515479\n"
          ]
        },
        {
          "output_type": "stream",
          "name": "stderr",
          "text": [
            "100%|██████████| 649/649 [00:12<00:00, 53.14it/s]\n"
          ]
        },
        {
          "output_type": "stream",
          "name": "stdout",
          "text": [
            "6.5148993\n"
          ]
        },
        {
          "output_type": "stream",
          "name": "stderr",
          "text": [
            "100%|██████████| 649/649 [00:12<00:00, 53.26it/s]\n"
          ]
        },
        {
          "output_type": "stream",
          "name": "stdout",
          "text": [
            "6.4934826\n"
          ]
        },
        {
          "output_type": "stream",
          "name": "stderr",
          "text": [
            "100%|██████████| 649/649 [00:12<00:00, 53.42it/s]\n"
          ]
        },
        {
          "output_type": "stream",
          "name": "stdout",
          "text": [
            "6.4795866\n"
          ]
        },
        {
          "output_type": "stream",
          "name": "stderr",
          "text": [
            "100%|██████████| 649/649 [00:12<00:00, 53.19it/s]\n"
          ]
        },
        {
          "output_type": "stream",
          "name": "stdout",
          "text": [
            "6.4832096\n"
          ]
        },
        {
          "output_type": "stream",
          "name": "stderr",
          "text": [
            "100%|██████████| 649/649 [00:12<00:00, 53.13it/s]\n"
          ]
        },
        {
          "output_type": "stream",
          "name": "stdout",
          "text": [
            "6.4792995\n"
          ]
        },
        {
          "output_type": "stream",
          "name": "stderr",
          "text": [
            "100%|██████████| 649/649 [00:12<00:00, 53.15it/s]\n"
          ]
        },
        {
          "output_type": "stream",
          "name": "stdout",
          "text": [
            "6.468093\n"
          ]
        },
        {
          "output_type": "stream",
          "name": "stderr",
          "text": [
            "100%|██████████| 649/649 [00:12<00:00, 53.21it/s]\n"
          ]
        },
        {
          "output_type": "stream",
          "name": "stdout",
          "text": [
            "6.451922\n"
          ]
        },
        {
          "output_type": "stream",
          "name": "stderr",
          "text": [
            "100%|██████████| 649/649 [00:12<00:00, 53.43it/s]\n"
          ]
        }
      ],
      "source": [
        "from tqdm import tqdm\n",
        "W_input = W_input_init.copy()\n",
        "W_output = W_output_init.copy()\n",
        "niter = 30\n",
        "tr_loss_traj = []\n",
        "batch_size = 4096\n",
        "count = 0\n",
        "eta = 1\n",
        "for epoch in range(niter):\n",
        "  #Shuffle\n",
        "  np.random.shuffle(train)\n",
        "  #Annealing Learning Rate\n",
        "  '''\n",
        "  if epoch%6 == 0 and epoch!=0:\n",
        "    eta = 0.5*eta\n",
        "    print(eta)\n",
        "  '''\n",
        "  tr_loss, _ = vg_input(W_input,W_output,X_train_batch,y_train_batch)\n",
        "  print(tr_loss)\n",
        "  #Split into batches\n",
        "  loss_traj_sub = []\n",
        "  batches = jnp.arange((train.shape[0]//batch_size)+1) ### Batch Indices\n",
        "  for batch in tqdm(batches):\n",
        "      if batch != batches[-1]:\n",
        "          start, end = int(batch*batch_size), int(batch*batch_size+batch_size)\n",
        "      else:\n",
        "          start, end = int(batch*batch_size), None\n",
        "      X_train, y_train = jnp.array(train[start:end,0],dtype = 'int32'), jnp.array(train[start:end,1],dtype = 'int32')\n",
        "      v_i, g_i = vg_input(W_input,W_output,X_train,y_train)\n",
        "      v_o, g_o = vg_output(W_input,W_output,X_train,y_train)\n",
        "      tr_loss_traj.append(v_i)\n",
        "      if count == 0:\n",
        "        W_input = W_input - eta*g_i\n",
        "        W_output = W_output - eta*g_o\n",
        "        change_i = -eta*g_i\n",
        "        change_o = -eta*g_o\n",
        "      else:\n",
        "        W_input = W_input - eta*g_i + 0.9*change_i\n",
        "        W_output = W_output - eta*g_o + 0.9*change_o\n",
        "        change_i = - eta*g_i + 0.9*change_i\n",
        "        change_o = - eta*g_o + 0.9*change_o\n",
        "      count+=1\n",
        "  #Computed Loss\n",
        "  \n",
        "\n"
      ]
    },
    {
      "cell_type": "code",
      "source": [
        "train.shape[0]/4096"
      ],
      "metadata": {
        "colab": {
          "base_uri": "https://localhost:8080/"
        },
        "id": "F68l28k2sr6m",
        "outputId": "5986f2f6-2999-4f98-ac54-d66636f3c95b"
      },
      "execution_count": null,
      "outputs": [
        {
          "output_type": "execute_result",
          "data": {
            "text/plain": [
              "707.59521484375"
            ]
          },
          "metadata": {},
          "execution_count": 35
        }
      ]
    },
    {
      "cell_type": "code",
      "execution_count": null,
      "metadata": {
        "colab": {
          "base_uri": "https://localhost:8080/",
          "height": 448
        },
        "id": "eO8en9lMP_PL",
        "outputId": "520b93b1-6b61-4dd6-b27f-a2d779224c37"
      },
      "outputs": [
        {
          "output_type": "execute_result",
          "data": {
            "text/plain": [
              "[<matplotlib.lines.Line2D at 0x7f6d9af6ee60>]"
            ]
          },
          "metadata": {},
          "execution_count": 11
        },
        {
          "output_type": "display_data",
          "data": {
            "text/plain": [
              "<Figure size 640x480 with 1 Axes>"
            ],
            "image/png": "[encoded data removed]"
          },
          "metadata": {}
        }
      ],
      "source": [
        "import pylab as plt\n",
        "plt.plot(tr_loss_traj)"
      ]
    },
    {
      "cell_type": "code",
      "source": [
        "W_input_init"
      ],
      "metadata": {
        "colab": {
          "base_uri": "https://localhost:8080/"
        },
        "id": "yjsrl9uHo-TP",
        "outputId": "9c7ee2a4-83cb-4cb7-c660-f9b8509e53fd"
      },
      "execution_count": null,
      "outputs": [
        {
          "output_type": "execute_result",
          "data": {
            "text/plain": [
              "Array([[-0.00507089, -0.0083379 ,  0.00299736, ...,  0.00143476,\n",
              "        -0.01333504, -0.0019146 ],\n",
              "       [ 0.00279097,  0.00108768, -0.00614054, ..., -0.00070675,\n",
              "         0.00664413,  0.00765096],\n",
              "       [ 0.00253074, -0.00931743, -0.01287345, ...,  0.00158463,\n",
              "        -0.01113979,  0.0131964 ],\n",
              "       ...,\n",
              "       [ 0.01241543, -0.00047243, -0.01418059, ..., -0.00314069,\n",
              "        -0.00695634, -0.02354393],\n",
              "       [-0.01994094, -0.00137882, -0.00243809, ...,  0.00779493,\n",
              "         0.00290231,  0.00960307],\n",
              "       [ 0.00181615,  0.00121806, -0.00784372, ..., -0.00141557,\n",
              "         0.00939678,  0.01484289]], dtype=float32)"
            ]
          },
          "metadata": {},
          "execution_count": 12
        }
      ]
    },
    {
      "cell_type": "code",
      "execution_count": null,
      "metadata": {
        "colab": {
          "base_uri": "https://localhost:8080/"
        },
        "id": "dFEWW3cxm8QR",
        "outputId": "7bb95117-bea7-4439-875b-6a0701a0aa26"
      },
      "outputs": [
        {
          "output_type": "execute_result",
          "data": {
            "text/plain": [
              "Array([[ 0.29030254, -0.31464103, -0.35322136, ..., -0.1402781 ,\n",
              "        -0.5501769 , -0.1984388 ],\n",
              "       [ 0.21042702,  0.07391097, -0.6370893 , ...,  0.13262449,\n",
              "         0.58602345,  0.3923241 ],\n",
              "       [ 0.206657  , -0.18307061, -0.1138256 , ..., -0.0456132 ,\n",
              "        -0.39776984,  0.6742934 ],\n",
              "       ...,\n",
              "       [-0.00437442, -0.02412188, -0.21124819, ..., -0.10853051,\n",
              "        -0.0743931 , -0.04663879],\n",
              "       [-0.10186025, -0.22990985, -0.11063803, ...,  0.08316323,\n",
              "        -0.16050287,  0.13527282],\n",
              "       [-0.08992184, -0.13100848,  0.02322912, ..., -0.07769077,\n",
              "        -0.11354681,  0.36224583]], dtype=float32)"
            ]
          },
          "metadata": {},
          "execution_count": 13
        }
      ],
      "source": [
        "#Word Embeddings\n",
        "W_input"
      ]
    }
  ],
  "metadata": {
    "accelerator": "GPU",
    "colab": {
      "provenance": [],
      "authorship_tag": "ABX9TyPSzfm0cra2ww6ZXpPbxFw+",
      "include_colab_link": true
    },
    "gpuClass": "standard",
    "kernelspec": {
      "display_name": "Python 3",
      "name": "python3"
    },
    "language_info": {
      "name": "python"
    }
  },
  "nbformat": 4,
  "nbformat_minor": 0
}
{
  "nbformat": 4,
  "nbformat_minor": 0,
  "metadata": {
    "colab": {
      "provenance": [],
      "authorship_tag": "ABX9TyO4xZNGRGCGhRVttlsnYLyQ",
      "include_colab_link": true
    },
    "kernelspec": {
      "name": "python3",
      "display_name": "Python 3"
    },
    "language_info": {
      "name": "python"
    },
    "gpuClass": "standard"
  },
  "cells": [
    {
      "cell_type": "markdown",
      "metadata": {
        "id": "view-in-github",
        "colab_type": "text"
      },
      "source": [
        "<a href=\"https://colab.research.google.com/github/xghan99/dsa4212-assignments/blob/main/GeneratingTrainingData.ipynb\" target=\"_parent\"><img src=\"https://colab.research.google.com/assets/colab-badge.svg\" alt=\"Open In Colab\"/></a>"
      ]
    },
    {
      "cell_type": "code",
      "execution_count": null,
      "metadata": {
        "id": "cwsT1A4a8par",
        "colab": {
          "base_uri": "https://localhost:8080/"
        },
        "outputId": "1c8ee101-0f0f-4940-efee-e295bf71071d"
      },
      "outputs": [
        {
          "output_type": "stream",
          "name": "stdout",
          "text": [
            "Mounted at /content/drive\n"
          ]
        }
      ],
      "source": [
        "from google.colab import drive\n",
        "drive.mount('/content/drive')"
      ]
    },
    {
      "cell_type": "code",
      "source": [
        "%cd /content/drive/MyDrive/Colab Notebooks"
      ],
      "metadata": {
        "id": "C0cBSirq85Ky",
        "colab": {
          "base_uri": "https://localhost:8080/"
        },
        "outputId": "8e407ac1-f997-425a-b802-58d3ad1c025f"
      },
      "execution_count": null,
      "outputs": [
        {
          "output_type": "stream",
          "name": "stdout",
          "text": [
            "/content/drive/MyDrive/Colab Notebooks\n"
          ]
        }
      ]
    },
    {
      "cell_type": "code",
      "source": [
        "import pandas as pd\n",
        "df = pd.read_csv(\"train.csv\")"
      ],
      "metadata": {
        "id": "6yIVBZhfE788"
      },
      "execution_count": null,
      "outputs": []
    },
    {
      "cell_type": "code",
      "source": [
        "import numpy as np\n",
        "import re\n",
        "#Take 20000 data samples, we would be using the highlight column as a corpus\n",
        "sample = np.random.randint(0,df.shape[0],20000)\n",
        "df_sample = df.loc[sample,]\n",
        "#Remove digits\n",
        "df_sample['highlights'] = df_sample['highlights'].map(lambda x: re.sub(r'[0-9]', '', x))\n",
        "#Lower Case\n",
        "df_sample['highlights'] = df_sample['highlights'].map(lambda x: x.lower())\n",
        "#Remove Next Line Characters\n",
        "df_sample['highlights'] = df_sample['highlights'].map(lambda x: x.replace('\\n',''))\n",
        "#Remove stopwords\n",
        "#df_sample['highlights'] = df_sample['highlights'].map(lambda x: rm_stopwords(x))\n",
        "#Lemmatize text (this takes a while)\n",
        "#df_sample['highlights'] = df_sample['highlights'].map(lambda x: nlp(x))\n",
        "#df_sample['highlights'] = df_sample['highlights'].map(lambda x: \" \".join([token.lemma_ for token in x]))"
      ],
      "metadata": {
        "id": "vxD_xTw_4Zv2"
      },
      "execution_count": null,
      "outputs": []
    },
    {
      "cell_type": "code",
      "source": [
        "df_sample = df_sample.reset_index()"
      ],
      "metadata": {
        "id": "alHUGi5r4ry8"
      },
      "execution_count": null,
      "outputs": []
    },
    {
      "cell_type": "code",
      "source": [
        "df_sample.shape"
      ],
      "metadata": {
        "colab": {
          "base_uri": "https://localhost:8080/"
        },
        "id": "oe3EHChaFO9K",
        "outputId": "5f8a965c-66e0-47fd-c24c-fce11bc48f62"
      },
      "execution_count": null,
      "outputs": [
        {
          "output_type": "execute_result",
          "data": {
            "text/plain": [
              "(20000, 4)"
            ]
          },
          "metadata": {},
          "execution_count": 6
        }
      ]
    },
    {
      "cell_type": "code",
      "source": [
        "df_sample.head()"
      ],
      "metadata": {
        "colab": {
          "base_uri": "https://localhost:8080/",
          "height": 206
        },
        "id": "qBGY3IlbN7_o",
        "outputId": "b310df76-fb0d-419f-f569-a8678bf1d28d"
      },
      "execution_count": null,
      "outputs": [
        {
          "output_type": "execute_result",
          "data": {
            "text/plain": [
              "    index                                        id  \\\n",
              "0   81123  e5e33fe1d102cf51b9ad5bc538d5c9b3c628edd2   \n",
              "1  201992  918106b6bf94a721f81b9c2f470a296d002561af   \n",
              "2  240491  c35583eda74be5efce5bc2f26befc162337eea4d   \n",
              "3   80134  e31d15d4a0c530949f0b4f2f9c89f839715adf06   \n",
              "4   32958  5d9e609a8cb14c9e68d8dfa40760429f5ab4c97e   \n",
              "\n",
              "                                             article  \\\n",
              "0  Of the many World Cup squads already announced...   \n",
              "1  By . Daily Mail Reporter . PUBLISHED: . 10:00 ...   \n",
              "2  By . Olivia Williams . PUBLISHED: . 03:08 EST,...   \n",
              "3  By . Rex Gowar, Reuters . Radamel Falcao, Colo...   \n",
              "4  An American explorer's claim to have found the...   \n",
              "\n",
              "                                          highlights  \n",
              "0  cesare prandelli named -man squad following - ...  \n",
              "1  nicholas john miller, , hijacked the bus after...  \n",
              "2  gps tracker inside trailer led police straight...  \n",
              "3  monaco striker was rumoured to travel to bogot...  \n",
              "4  u.n. experts say a wreck found off haiti is no...  "
            ],
            "text/html": [
              "\n",
              "  <div id=\"df-392d6da4-c510-40c2-938a-e63c610b6248\">\n",
              "    <div class=\"colab-df-container\">\n",
              "      <div>\n",
              "<style scoped>\n",
              "    .dataframe tbody tr th:only-of-type {\n",
              "        vertical-align: middle;\n",
              "    }\n",
              "\n",
              "    .dataframe tbody tr th {\n",
              "        vertical-align: top;\n",
              "    }\n",
              "\n",
              "    .dataframe thead th {\n",
              "        text-align: right;\n",
              "    }\n",
              "</style>\n",
              "<table border=\"1\" class=\"dataframe\">\n",
              "  <thead>\n",
              "    <tr style=\"text-align: right;\">\n",
              "      <th></th>\n",
              "      <th>index</th>\n",
              "      <th>id</th>\n",
              "      <th>article</th>\n",
              "      <th>highlights</th>\n",
              "    </tr>\n",
              "  </thead>\n",
              "  <tbody>\n",
              "    <tr>\n",
              "      <th>0</th>\n",
              "      <td>81123</td>\n",
              "      <td>e5e33fe1d102cf51b9ad5bc538d5c9b3c628edd2</td>\n",
              "      <td>Of the many World Cup squads already announced...</td>\n",
              "      <td>cesare prandelli named -man squad following - ...</td>\n",
              "    </tr>\n",
              "    <tr>\n",
              "      <th>1</th>\n",
              "      <td>201992</td>\n",
              "      <td>918106b6bf94a721f81b9c2f470a296d002561af</td>\n",
              "      <td>By . Daily Mail Reporter . PUBLISHED: . 10:00 ...</td>\n",
              "      <td>nicholas john miller, , hijacked the bus after...</td>\n",
              "    </tr>\n",
              "    <tr>\n",
              "      <th>2</th>\n",
              "      <td>240491</td>\n",
              "      <td>c35583eda74be5efce5bc2f26befc162337eea4d</td>\n",
              "      <td>By . Olivia Williams . PUBLISHED: . 03:08 EST,...</td>\n",
              "      <td>gps tracker inside trailer led police straight...</td>\n",
              "    </tr>\n",
              "    <tr>\n",
              "      <th>3</th>\n",
              "      <td>80134</td>\n",
              "      <td>e31d15d4a0c530949f0b4f2f9c89f839715adf06</td>\n",
              "      <td>By . Rex Gowar, Reuters . Radamel Falcao, Colo...</td>\n",
              "      <td>monaco striker was rumoured to travel to bogot...</td>\n",
              "    </tr>\n",
              "    <tr>\n",
              "      <th>4</th>\n",
              "      <td>32958</td>\n",
              "      <td>5d9e609a8cb14c9e68d8dfa40760429f5ab4c97e</td>\n",
              "      <td>An American explorer's claim to have found the...</td>\n",
              "      <td>u.n. experts say a wreck found off haiti is no...</td>\n",
              "    </tr>\n",
              "  </tbody>\n",
              "</table>\n",
              "</div>\n",
              "      <button class=\"colab-df-convert\" onclick=\"convertToInteractive('df-392d6da4-c510-40c2-938a-e63c610b6248')\"\n",
              "              title=\"Convert this dataframe to an interactive table.\"\n",
              "              style=\"display:none;\">\n",
              "        \n",
              "  <svg xmlns=\"http://www.w3.org/2000/svg\" height=\"24px\"viewBox=\"0 0 24 24\"\n",
              "       width=\"24px\">\n",
              "    <path d=\"M0 0h24v24H0V0z\" fill=\"none\"/>\n",
              "    <path d=\"M18.56 5.44l.94 2.06.94-2.06 2.06-.94-2.06-.94-.94-2.06-.94 2.06-2.06.94zm-11 1L8.5 8.5l.94-2.06 2.06-.94-2.06-.94L8.5 2.5l-.94 2.06-2.06.94zm10 10l.94 2.06.94-2.06 2.06-.94-2.06-.94-.94-2.06-.94 2.06-2.06.94z\"/><path d=\"M17.41 7.96l-1.37-1.37c-.4-.4-.92-.59-1.43-.59-.52 0-1.04.2-1.43.59L10.3 9.45l-7.72 7.72c-.78.78-.78 2.05 0 2.83L4 21.41c.39.39.9.59 1.41.59.51 0 1.02-.2 1.41-.59l7.78-7.78 2.81-2.81c.8-.78.8-2.07 0-2.86zM5.41 20L4 18.59l7.72-7.72 1.47 1.35L5.41 20z\"/>\n",
              "  </svg>\n",
              "      </button>\n",
              "      \n",
              "  <style>\n",
              "    .colab-df-container {\n",
              "      display:flex;\n",
              "      flex-wrap:wrap;\n",
              "      gap: 12px;\n",
              "    }\n",
              "\n",
              "    .colab-df-convert {\n",
              "      background-color: #E8F0FE;\n",
              "      border: none;\n",
              "      border-radius: 50%;\n",
              "      cursor: pointer;\n",
              "      display: none;\n",
              "      fill: #1967D2;\n",
              "      height: 32px;\n",
              "      padding: 0 0 0 0;\n",
              "      width: 32px;\n",
              "    }\n",
              "\n",
              "    .colab-df-convert:hover {\n",
              "      background-color: #E2EBFA;\n",
              "      box-shadow: 0px 1px 2px rgba(60, 64, 67, 0.3), 0px 1px 3px 1px rgba(60, 64, 67, 0.15);\n",
              "      fill: #174EA6;\n",
              "    }\n",
              "\n",
              "    [theme=dark] .colab-df-convert {\n",
              "      background-color: #3B4455;\n",
              "      fill: #D2E3FC;\n",
              "    }\n",
              "\n",
              "    [theme=dark] .colab-df-convert:hover {\n",
              "      background-color: #434B5C;\n",
              "      box-shadow: 0px 1px 3px 1px rgba(0, 0, 0, 0.15);\n",
              "      filter: drop-shadow(0px 1px 2px rgba(0, 0, 0, 0.3));\n",
              "      fill: #FFFFFF;\n",
              "    }\n",
              "  </style>\n",
              "\n",
              "      <script>\n",
              "        const buttonEl =\n",
              "          document.querySelector('#df-392d6da4-c510-40c2-938a-e63c610b6248 button.colab-df-convert');\n",
              "        buttonEl.style.display =\n",
              "          google.colab.kernel.accessAllowed ? 'block' : 'none';\n",
              "\n",
              "        async function convertToInteractive(key) {\n",
              "          const element = document.querySelector('#df-392d6da4-c510-40c2-938a-e63c610b6248');\n",
              "          const dataTable =\n",
              "            await google.colab.kernel.invokeFunction('convertToInteractive',\n",
              "                                                     [key], {});\n",
              "          if (!dataTable) return;\n",
              "\n",
              "          const docLinkHtml = 'Like what you see? Visit the ' +\n",
              "            '<a target=\"_blank\" href=https://colab.research.google.com/notebooks/data_table.ipynb>data table notebook</a>'\n",
              "            + ' to learn more about interactive tables.';\n",
              "          element.innerHTML = '';\n",
              "          dataTable['output_type'] = 'display_data';\n",
              "          await google.colab.output.renderOutput(dataTable, element);\n",
              "          const docLink = document.createElement('div');\n",
              "          docLink.innerHTML = docLinkHtml;\n",
              "          element.appendChild(docLink);\n",
              "        }\n",
              "      </script>\n",
              "    </div>\n",
              "  </div>\n",
              "  "
            ]
          },
          "metadata": {},
          "execution_count": 7
        }
      ]
    },
    {
      "cell_type": "code",
      "source": [
        "df_sample['no_punctuation'] = df_sample['highlights'].str.replace('[^\\w\\s]','')"
      ],
      "metadata": {
        "colab": {
          "base_uri": "https://localhost:8080/"
        },
        "id": "lyAZp2mDwtpj",
        "outputId": "515096df-dbaf-4653-e0ad-e4ab85410ec2"
      },
      "execution_count": null,
      "outputs": [
        {
          "output_type": "stream",
          "name": "stderr",
          "text": [
            "<ipython-input-8-dc5f0d4f18ea>:1: FutureWarning: The default value of regex will change from True to False in a future version.\n",
            "  df_sample['no_punctuation'] = df_sample['highlights'].str.replace('[^\\w\\s]','')\n"
          ]
        }
      ]
    },
    {
      "cell_type": "code",
      "source": [
        "df_sample.head()"
      ],
      "metadata": {
        "colab": {
          "base_uri": "https://localhost:8080/",
          "height": 206
        },
        "id": "wet9zxkUw--l",
        "outputId": "498b3d77-ed4f-48be-9de3-c5e3dbfbaea7"
      },
      "execution_count": null,
      "outputs": [
        {
          "output_type": "execute_result",
          "data": {
            "text/plain": [
              "    index                                        id  \\\n",
              "0   81123  e5e33fe1d102cf51b9ad5bc538d5c9b3c628edd2   \n",
              "1  201992  918106b6bf94a721f81b9c2f470a296d002561af   \n",
              "2  240491  c35583eda74be5efce5bc2f26befc162337eea4d   \n",
              "3   80134  e31d15d4a0c530949f0b4f2f9c89f839715adf06   \n",
              "4   32958  5d9e609a8cb14c9e68d8dfa40760429f5ab4c97e   \n",
              "\n",
              "                                             article  \\\n",
              "0  Of the many World Cup squads already announced...   \n",
              "1  By . Daily Mail Reporter . PUBLISHED: . 10:00 ...   \n",
              "2  By . Olivia Williams . PUBLISHED: . 03:08 EST,...   \n",
              "3  By . Rex Gowar, Reuters . Radamel Falcao, Colo...   \n",
              "4  An American explorer's claim to have found the...   \n",
              "\n",
              "                                          highlights  \\\n",
              "0  cesare prandelli named -man squad following - ...   \n",
              "1  nicholas john miller, , hijacked the bus after...   \n",
              "2  gps tracker inside trailer led police straight...   \n",
              "3  monaco striker was rumoured to travel to bogot...   \n",
              "4  u.n. experts say a wreck found off haiti is no...   \n",
              "\n",
              "                                      no_punctuation  \n",
              "0  cesare prandelli named man squad following  dr...  \n",
              "1  nicholas john miller  hijacked the bus after a...  \n",
              "2  gps tracker inside trailer led police straight...  \n",
              "3  monaco striker was rumoured to travel to bogot...  \n",
              "4  un experts say a wreck found off haiti is not ...  "
            ],
            "text/html": [
              "\n",
              "  <div id=\"df-f018df30-24c4-4a2c-86cc-b6bd25c0bc83\">\n",
              "    <div class=\"colab-df-container\">\n",
              "      <div>\n",
              "<style scoped>\n",
              "    .dataframe tbody tr th:only-of-type {\n",
              "        vertical-align: middle;\n",
              "    }\n",
              "\n",
              "    .dataframe tbody tr th {\n",
              "        vertical-align: top;\n",
              "    }\n",
              "\n",
              "    .dataframe thead th {\n",
              "        text-align: right;\n",
              "    }\n",
              "</style>\n",
              "<table border=\"1\" class=\"dataframe\">\n",
              "  <thead>\n",
              "    <tr style=\"text-align: right;\">\n",
              "      <th></th>\n",
              "      <th>index</th>\n",
              "      <th>id</th>\n",
              "      <th>article</th>\n",
              "      <th>highlights</th>\n",
              "      <th>no_punctuation</th>\n",
              "    </tr>\n",
              "  </thead>\n",
              "  <tbody>\n",
              "    <tr>\n",
              "      <th>0</th>\n",
              "      <td>81123</td>\n",
              "      <td>e5e33fe1d102cf51b9ad5bc538d5c9b3c628edd2</td>\n",
              "      <td>Of the many World Cup squads already announced...</td>\n",
              "      <td>cesare prandelli named -man squad following - ...</td>\n",
              "      <td>cesare prandelli named man squad following  dr...</td>\n",
              "    </tr>\n",
              "    <tr>\n",
              "      <th>1</th>\n",
              "      <td>201992</td>\n",
              "      <td>918106b6bf94a721f81b9c2f470a296d002561af</td>\n",
              "      <td>By . Daily Mail Reporter . PUBLISHED: . 10:00 ...</td>\n",
              "      <td>nicholas john miller, , hijacked the bus after...</td>\n",
              "      <td>nicholas john miller  hijacked the bus after a...</td>\n",
              "    </tr>\n",
              "    <tr>\n",
              "      <th>2</th>\n",
              "      <td>240491</td>\n",
              "      <td>c35583eda74be5efce5bc2f26befc162337eea4d</td>\n",
              "      <td>By . Olivia Williams . PUBLISHED: . 03:08 EST,...</td>\n",
              "      <td>gps tracker inside trailer led police straight...</td>\n",
              "      <td>gps tracker inside trailer led police straight...</td>\n",
              "    </tr>\n",
              "    <tr>\n",
              "      <th>3</th>\n",
              "      <td>80134</td>\n",
              "      <td>e31d15d4a0c530949f0b4f2f9c89f839715adf06</td>\n",
              "      <td>By . Rex Gowar, Reuters . Radamel Falcao, Colo...</td>\n",
              "      <td>monaco striker was rumoured to travel to bogot...</td>\n",
              "      <td>monaco striker was rumoured to travel to bogot...</td>\n",
              "    </tr>\n",
              "    <tr>\n",
              "      <th>4</th>\n",
              "      <td>32958</td>\n",
              "      <td>5d9e609a8cb14c9e68d8dfa40760429f5ab4c97e</td>\n",
              "      <td>An American explorer's claim to have found the...</td>\n",
              "      <td>u.n. experts say a wreck found off haiti is no...</td>\n",
              "      <td>un experts say a wreck found off haiti is not ...</td>\n",
              "    </tr>\n",
              "  </tbody>\n",
              "</table>\n",
              "</div>\n",
              "      <button class=\"colab-df-convert\" onclick=\"convertToInteractive('df-f018df30-24c4-4a2c-86cc-b6bd25c0bc83')\"\n",
              "              title=\"Convert this dataframe to an interactive table.\"\n",
              "              style=\"display:none;\">\n",
              "        \n",
              "  <svg xmlns=\"http://www.w3.org/2000/svg\" height=\"24px\"viewBox=\"0 0 24 24\"\n",
              "       width=\"24px\">\n",
              "    <path d=\"M0 0h24v24H0V0z\" fill=\"none\"/>\n",
              "    <path d=\"M18.56 5.44l.94 2.06.94-2.06 2.06-.94-2.06-.94-.94-2.06-.94 2.06-2.06.94zm-11 1L8.5 8.5l.94-2.06 2.06-.94-2.06-.94L8.5 2.5l-.94 2.06-2.06.94zm10 10l.94 2.06.94-2.06 2.06-.94-2.06-.94-.94-2.06-.94 2.06-2.06.94z\"/><path d=\"M17.41 7.96l-1.37-1.37c-.4-.4-.92-.59-1.43-.59-.52 0-1.04.2-1.43.59L10.3 9.45l-7.72 7.72c-.78.78-.78 2.05 0 2.83L4 21.41c.39.39.9.59 1.41.59.51 0 1.02-.2 1.41-.59l7.78-7.78 2.81-2.81c.8-.78.8-2.07 0-2.86zM5.41 20L4 18.59l7.72-7.72 1.47 1.35L5.41 20z\"/>\n",
              "  </svg>\n",
              "      </button>\n",
              "      \n",
              "  <style>\n",
              "    .colab-df-container {\n",
              "      display:flex;\n",
              "      flex-wrap:wrap;\n",
              "      gap: 12px;\n",
              "    }\n",
              "\n",
              "    .colab-df-convert {\n",
              "      background-color: #E8F0FE;\n",
              "      border: none;\n",
              "      border-radius: 50%;\n",
              "      cursor: pointer;\n",
              "      display: none;\n",
              "      fill: #1967D2;\n",
              "      height: 32px;\n",
              "      padding: 0 0 0 0;\n",
              "      width: 32px;\n",
              "    }\n",
              "\n",
              "    .colab-df-convert:hover {\n",
              "      background-color: #E2EBFA;\n",
              "      box-shadow: 0px 1px 2px rgba(60, 64, 67, 0.3), 0px 1px 3px 1px rgba(60, 64, 67, 0.15);\n",
              "      fill: #174EA6;\n",
              "    }\n",
              "\n",
              "    [theme=dark] .colab-df-convert {\n",
              "      background-color: #3B4455;\n",
              "      fill: #D2E3FC;\n",
              "    }\n",
              "\n",
              "    [theme=dark] .colab-df-convert:hover {\n",
              "      background-color: #434B5C;\n",
              "      box-shadow: 0px 1px 3px 1px rgba(0, 0, 0, 0.15);\n",
              "      filter: drop-shadow(0px 1px 2px rgba(0, 0, 0, 0.3));\n",
              "      fill: #FFFFFF;\n",
              "    }\n",
              "  </style>\n",
              "\n",
              "      <script>\n",
              "        const buttonEl =\n",
              "          document.querySelector('#df-f018df30-24c4-4a2c-86cc-b6bd25c0bc83 button.colab-df-convert');\n",
              "        buttonEl.style.display =\n",
              "          google.colab.kernel.accessAllowed ? 'block' : 'none';\n",
              "\n",
              "        async function convertToInteractive(key) {\n",
              "          const element = document.querySelector('#df-f018df30-24c4-4a2c-86cc-b6bd25c0bc83');\n",
              "          const dataTable =\n",
              "            await google.colab.kernel.invokeFunction('convertToInteractive',\n",
              "                                                     [key], {});\n",
              "          if (!dataTable) return;\n",
              "\n",
              "          const docLinkHtml = 'Like what you see? Visit the ' +\n",
              "            '<a target=\"_blank\" href=https://colab.research.google.com/notebooks/data_table.ipynb>data table notebook</a>'\n",
              "            + ' to learn more about interactive tables.';\n",
              "          element.innerHTML = '';\n",
              "          dataTable['output_type'] = 'display_data';\n",
              "          await google.colab.output.renderOutput(dataTable, element);\n",
              "          const docLink = document.createElement('div');\n",
              "          docLink.innerHTML = docLinkHtml;\n",
              "          element.appendChild(docLink);\n",
              "        }\n",
              "      </script>\n",
              "    </div>\n",
              "  </div>\n",
              "  "
            ]
          },
          "metadata": {},
          "execution_count": 9
        }
      ]
    },
    {
      "cell_type": "code",
      "source": [
        "#Check Missing Data\n",
        "df_sample.isna().sum()"
      ],
      "metadata": {
        "colab": {
          "base_uri": "https://localhost:8080/"
        },
        "id": "MO4FxsXTFSer",
        "outputId": "c682ea8b-7f79-48d3-f9ac-defe6c771d63"
      },
      "execution_count": null,
      "outputs": [
        {
          "output_type": "execute_result",
          "data": {
            "text/plain": [
              "index             0\n",
              "id                0\n",
              "article           0\n",
              "highlights        0\n",
              "no_punctuation    0\n",
              "dtype: int64"
            ]
          },
          "metadata": {},
          "execution_count": 10
        }
      ]
    },
    {
      "cell_type": "code",
      "source": [
        "most_freq_words = pd.Series(' '.join(df_sample['no_punctuation']).lower().split()).value_counts()[:8500]"
      ],
      "metadata": {
        "id": "HOACYt46iklB"
      },
      "execution_count": null,
      "outputs": []
    },
    {
      "cell_type": "code",
      "source": [
        "most_freq_words = list(most_freq_words.index)"
      ],
      "metadata": {
        "id": "3oQ3rCOli81B"
      },
      "execution_count": null,
      "outputs": []
    },
    {
      "cell_type": "code",
      "source": [
        "most_freq_words"
      ],
      "metadata": {
        "id": "0CRyGnnyjds9"
      },
      "execution_count": null,
      "outputs": []
    },
    {
      "cell_type": "code",
      "source": [
        "from tqdm import tqdm\n",
        "idx_2_word = {}\n",
        "word_2_idx = {}\n",
        "for i in tqdm(range(8500)):\n",
        "  idx_2_word[i] = most_freq_words[i]\n",
        "  word_2_idx[most_freq_words[i]] = i"
      ],
      "metadata": {
        "colab": {
          "base_uri": "https://localhost:8080/"
        },
        "id": "KBd8q-QbkCZc",
        "outputId": "b9125ff8-abba-42f3-bccc-3327b7e714ae"
      },
      "execution_count": null,
      "outputs": [
        {
          "output_type": "stream",
          "name": "stderr",
          "text": [
            "100%|██████████| 8500/8500 [00:00<00:00, 970348.77it/s]\n"
          ]
        }
      ]
    },
    {
      "cell_type": "code",
      "source": [
        "idx_2_word[0]"
      ],
      "metadata": {
        "colab": {
          "base_uri": "https://localhost:8080/",
          "height": 35
        },
        "id": "wo-DW4ttkZxF",
        "outputId": "dcb445e6-9863-4980-98ab-fa30c931dac2"
      },
      "execution_count": null,
      "outputs": [
        {
          "output_type": "execute_result",
          "data": {
            "text/plain": [
              "'the'"
            ],
            "application/vnd.google.colaboratory.intrinsic+json": {
              "type": "string"
            }
          },
          "metadata": {},
          "execution_count": 15
        }
      ]
    },
    {
      "cell_type": "code",
      "source": [
        "word_2_idx['the']"
      ],
      "metadata": {
        "colab": {
          "base_uri": "https://localhost:8080/"
        },
        "id": "f-zLb3xPkTKn",
        "outputId": "13c0a34a-4ca8-47b4-9f00-d1b99c854735"
      },
      "execution_count": null,
      "outputs": [
        {
          "output_type": "execute_result",
          "data": {
            "text/plain": [
              "0"
            ]
          },
          "metadata": {},
          "execution_count": 16
        }
      ]
    },
    {
      "cell_type": "code",
      "source": [
        "import pickle\n",
        "#Save the lookup tables\n",
        "with open('idx_2_word.pkl', 'wb') as fp:\n",
        "    pickle.dump(idx_2_word, fp)\n",
        "    print('dictionary saved successfully to file')\n",
        "with open('word_2_idx.pkl', 'wb') as fp:\n",
        "    pickle.dump(word_2_idx, fp)\n",
        "    print('dictionary saved successfully to file')"
      ],
      "metadata": {
        "colab": {
          "base_uri": "https://localhost:8080/"
        },
        "id": "uF1n3M5FHgIJ",
        "outputId": "42212b11-be1c-4d7f-b5ea-9c0f47e52eb3"
      },
      "execution_count": null,
      "outputs": [
        {
          "output_type": "stream",
          "name": "stdout",
          "text": [
            "dictionary saved successfully to file\n",
            "dictionary saved successfully to file\n"
          ]
        }
      ]
    },
    {
      "cell_type": "code",
      "source": [
        "import string\n",
        "def one_hot_map(doc):\n",
        "  x = []\n",
        "  for sentence in doc.split('.'):\n",
        "    y = []\n",
        "    for word in sentence.split():\n",
        "      word = word.translate(str.maketrans('','',string.punctuation))\n",
        "      if word in word_2_idx:\n",
        "        y.append(word_2_idx[word])\n",
        "      else:\n",
        "        y.append(9000)\n",
        "    x.append(y)\n",
        "  return x\n",
        "#Convert words in the sentence to numbers\n",
        "df_sample['highlights_encoded'] = df_sample['highlights'].map(lambda x: one_hot_map(x))"
      ],
      "metadata": {
        "id": "Mc0zB-SaZpMI"
      },
      "execution_count": null,
      "outputs": []
    },
    {
      "cell_type": "code",
      "source": [
        "df_sample['highlights_encoded']"
      ],
      "metadata": {
        "colab": {
          "base_uri": "https://localhost:8080/"
        },
        "id": "PDkBLBkzIo3a",
        "outputId": "067ad88d-dc9b-4172-9aae-bb4d6fc7fc16"
      },
      "execution_count": null,
      "outputs": [
        {
          "output_type": "execute_result",
          "data": {
            "text/plain": [
              "0        [[9000, 9000, 435, 83, 1065, 297, 9000, 980, 1...\n",
              "1        [[4086, 251, 1845, 9000, 7217, 0, 873, 21, 4, ...\n",
              "2        [[3723, 9000, 654, 5177, 563, 39, 1691, 1, 900...\n",
              "3        [[3393, 418, 6, 6160, 1, 747, 1, 9000, 1, 3159...\n",
              "4        [[6146], [4989], [385, 51, 4, 4561, 52, 84, 35...\n",
              "                               ...                        \n",
              "19995    [[4427, 9000, 9000, 5, 9000, 13, 2855, 11, 900...\n",
              "19996    [[9000, 9000, 9000, 63, 8, 0, 767, 7, 9000], [...\n",
              "19997    [[1296, 2243, 14, 853, 0, 9000, 24, 583, 3449,...\n",
              "19998    [[406, 3590, 9, 5459, 103, 19, 1349, 3, 9000, ...\n",
              "19999    [[9000, 387, 5835, 7253, 344, 1, 2235, 2, 7280...\n",
              "Name: highlights_encoded, Length: 20000, dtype: object"
            ]
          },
          "metadata": {},
          "execution_count": 19
        }
      ]
    },
    {
      "cell_type": "code",
      "source": [
        "idx_2_word[435]"
      ],
      "metadata": {
        "colab": {
          "base_uri": "https://localhost:8080/",
          "height": 35
        },
        "id": "-X5GcQwBEpTK",
        "outputId": "894b9327-4784-441f-c1d1-feb4e57bcccb"
      },
      "execution_count": null,
      "outputs": [
        {
          "output_type": "execute_result",
          "data": {
            "text/plain": [
              "'named'"
            ],
            "application/vnd.google.colaboratory.intrinsic+json": {
              "type": "string"
            }
          },
          "metadata": {},
          "execution_count": 21
        }
      ]
    },
    {
      "cell_type": "code",
      "source": [
        "df_sample['highlights']"
      ],
      "metadata": {
        "colab": {
          "base_uri": "https://localhost:8080/"
        },
        "id": "gh_26XSP9NCa",
        "outputId": "4854277c-7c03-4cb9-e623-d34d03328a79"
      },
      "execution_count": null,
      "outputs": [
        {
          "output_type": "execute_result",
          "data": {
            "text/plain": [
              "0        cesare prandelli named -man squad following - ...\n",
              "1        nicholas john miller, , hijacked the bus after...\n",
              "2        gps tracker inside trailer led police straight...\n",
              "3        monaco striker was rumoured to travel to bogot...\n",
              "4        u.n. experts say a wreck found off haiti is no...\n",
              "                               ...                        \n",
              "19995    barry levinson shaves and brushes his teeth wi...\n",
              "19996    four-bedroom nottinghamshire eco home on the m...\n",
              "19997    tony abbott has confirmed the adf are training...\n",
              "19998    bill gates is stepping down as chairman of mic...\n",
              "19999    joran van der sloot plans to marry in peruvian...\n",
              "Name: highlights, Length: 20000, dtype: object"
            ]
          },
          "metadata": {},
          "execution_count": 22
        }
      ]
    },
    {
      "cell_type": "code",
      "source": [
        "window = 2\n",
        "#Create training data using skip-gram\n",
        "from tqdm import tqdm\n",
        "def create_training_data(doc):\n",
        "  training_data = np.empty((0,2))\n",
        "  for sentence in doc:\n",
        "    sent_len = len(sentence)\n",
        "    for i, word in enumerate(sentence):\n",
        "      w_context = []\n",
        "      w_target = sentence[i]\n",
        "      if w_target == 0:\n",
        "        continue\n",
        "      for j in range(i-window, i+window+1):\n",
        "        if j != i and j <= sent_len - 1 and j >= 0:\n",
        "          w_context = sentence[j]\n",
        "          if w_context == 0:\n",
        "            continue\n",
        "          training_data = np.append(training_data,[[w_target,w_context]],axis = 0)\n",
        "  return training_data"
      ],
      "metadata": {
        "id": "v5uLqvTNegMv"
      },
      "execution_count": null,
      "outputs": []
    },
    {
      "cell_type": "code",
      "source": [
        "window = 2\n",
        "#Create training data using CBOW\n",
        "from tqdm import tqdm\n",
        "def create_training_data(doc):\n",
        "  training_data = np.empty((0,2))\n",
        "  for sentence in doc:\n",
        "    sent_len = len(sentence)\n",
        "    for i, word in enumerate(sentence):\n",
        "      w_input= []\n",
        "      w_output = sentence[i]\n",
        "      if w_output == 9000:\n",
        "        continue\n",
        "      for j in range(i-window, i+window+1):\n",
        "        if j != i and j <= sent_len - 1 and j >= 0:\n",
        "          w_input = sentence[j]\n",
        "          if w_input == 9000:\n",
        "            continue\n",
        "          training_data = np.append(training_data,[[w_input,w_output]],axis = 0)\n",
        "  return training_data"
      ],
      "metadata": {
        "id": "OrV70W6PAaeK"
      },
      "execution_count": null,
      "outputs": []
    },
    {
      "cell_type": "code",
      "source": [
        "tqdm.pandas()\n",
        "df_sample['training_data'] = df_sample['highlights_encoded'].progress_map(lambda x: create_training_data(x))"
      ],
      "metadata": {
        "colab": {
          "base_uri": "https://localhost:8080/"
        },
        "id": "xRgVomXCbPq_",
        "outputId": "2ff90a79-8eb6-412e-eaec-6b5fd54b16dc"
      },
      "execution_count": null,
      "outputs": [
        {
          "output_type": "stream",
          "name": "stderr",
          "text": [
            "100%|██████████| 20000/20000 [00:14<00:00, 1333.67it/s]\n"
          ]
        }
      ]
    },
    {
      "cell_type": "code",
      "source": [
        "df_sample['training_data']"
      ],
      "metadata": {
        "id": "Zhp1WEY9Joli",
        "colab": {
          "base_uri": "https://localhost:8080/"
        },
        "outputId": "bb6052ba-b94c-49c4-922e-4515697746e0"
      },
      "execution_count": null,
      "outputs": [
        {
          "output_type": "execute_result",
          "data": {
            "text/plain": [
              "0        [[83.0, 435.0], [1065.0, 435.0], [435.0, 83.0]...\n",
              "1        [[251.0, 4086.0], [1845.0, 4086.0], [4086.0, 2...\n",
              "2        [[654.0, 3723.0], [3723.0, 654.0], [5177.0, 65...\n",
              "3        [[418.0, 3393.0], [6.0, 3393.0], [3393.0, 418....\n",
              "4        [[51.0, 385.0], [4.0, 385.0], [385.0, 51.0], [...\n",
              "                               ...                        \n",
              "19995    [[13.0, 5.0], [5.0, 13.0], [2855.0, 13.0], [11...\n",
              "19996    [[8.0, 63.0], [0.0, 63.0], [63.0, 8.0], [0.0, ...\n",
              "19997    [[2243.0, 1296.0], [14.0, 1296.0], [1296.0, 22...\n",
              "19998    [[3590.0, 406.0], [9.0, 406.0], [406.0, 3590.0...\n",
              "19999    [[5835.0, 387.0], [7253.0, 387.0], [387.0, 583...\n",
              "Name: training_data, Length: 20000, dtype: object"
            ]
          },
          "metadata": {},
          "execution_count": 25
        }
      ]
    },
    {
      "cell_type": "code",
      "source": [
        "df_sample['highlights_encoded']"
      ],
      "metadata": {
        "colab": {
          "base_uri": "https://localhost:8080/"
        },
        "id": "IKu3mPYbIH04",
        "outputId": "0440e2d5-5772-4f5e-e9fe-71bca99366b3"
      },
      "execution_count": null,
      "outputs": [
        {
          "output_type": "execute_result",
          "data": {
            "text/plain": [
              "0        [[9000, 9000, 435, 83, 1065, 297, 9000, 980, 1...\n",
              "1        [[4086, 251, 1845, 9000, 7217, 0, 873, 21, 4, ...\n",
              "2        [[3723, 9000, 654, 5177, 563, 39, 1691, 1, 900...\n",
              "3        [[3393, 418, 6, 6160, 1, 747, 1, 9000, 1, 3159...\n",
              "4        [[6146], [4989], [385, 51, 4, 4561, 52, 84, 35...\n",
              "                               ...                        \n",
              "19995    [[4427, 9000, 9000, 5, 9000, 13, 2855, 11, 900...\n",
              "19996    [[9000, 9000, 9000, 63, 8, 0, 767, 7, 9000], [...\n",
              "19997    [[1296, 2243, 14, 853, 0, 9000, 24, 583, 3449,...\n",
              "19998    [[406, 3590, 9, 5459, 103, 19, 1349, 3, 9000, ...\n",
              "19999    [[9000, 387, 5835, 7253, 344, 1, 2235, 2, 7280...\n",
              "Name: highlights_encoded, Length: 20000, dtype: object"
            ]
          },
          "metadata": {},
          "execution_count": 26
        }
      ]
    },
    {
      "cell_type": "code",
      "source": [
        "df_sample['data_count'] = df_sample['training_data'].map(lambda x: len(x))"
      ],
      "metadata": {
        "id": "INHjNkR56bFV"
      },
      "execution_count": null,
      "outputs": []
    },
    {
      "cell_type": "code",
      "source": [
        "df_sample['data_count'].sum()"
      ],
      "metadata": {
        "colab": {
          "base_uri": "https://localhost:8080/"
        },
        "id": "JdAOLy616kfh",
        "outputId": "10c8e772-2fd1-49e3-d2f1-ab13ea36607b"
      },
      "execution_count": null,
      "outputs": [
        {
          "output_type": "execute_result",
          "data": {
            "text/plain": [
              "2656408"
            ]
          },
          "metadata": {},
          "execution_count": 28
        }
      ]
    },
    {
      "cell_type": "code",
      "source": [
        "df_sample.to_pickle('df_sample.pkl')"
      ],
      "metadata": {
        "id": "2jEi4odk9PYP"
      },
      "execution_count": null,
      "outputs": []
    }
  ]
}